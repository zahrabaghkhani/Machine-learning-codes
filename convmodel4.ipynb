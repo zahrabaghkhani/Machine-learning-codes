{
 "cells": [
  {
   "cell_type": "code",
   "execution_count": 1,
   "metadata": {
    "colab": {
     "base_uri": "https://localhost:8080/",
     "height": 125
    },
    "colab_type": "code",
    "id": "xpwe1nPAIwtt",
    "outputId": "ca567065-2d86-4293-e9fe-5bb69a2652c6"
   },
   "outputs": [
    {
     "name": "stdout",
     "output_type": "stream",
     "text": [
      "Go to this URL in a browser: https://accounts.google.com/o/oauth2/auth?client_id=947318989803-6bn6qk8qdgf4n4g3pfee6491hc0brc4i.apps.googleusercontent.com&redirect_uri=urn%3Aietf%3Awg%3Aoauth%3A2.0%3Aoob&scope=email%20https%3A%2F%2Fwww.googleapis.com%2Fauth%2Fdocs.test%20https%3A%2F%2Fwww.googleapis.com%2Fauth%2Fdrive%20https%3A%2F%2Fwww.googleapis.com%2Fauth%2Fdrive.photos.readonly%20https%3A%2F%2Fwww.googleapis.com%2Fauth%2Fpeopleapi.readonly&response_type=code\n",
      "\n",
      "Enter your authorization code:\n",
      "··········\n",
      "Mounted at /content/gdrive\n"
     ]
    }
   ],
   "source": [
    "from google.colab import drive\n",
    "drive.mount('/content/gdrive')"
   ]
  },
  {
   "cell_type": "code",
   "execution_count": 0,
   "metadata": {
    "colab": {},
    "colab_type": "code",
    "id": "z3zTsr20JLN4"
   },
   "outputs": [],
   "source": [
    "import h5py\n",
    "url = '/content/gdrive/My Drive/ml project/Untitled folder/dataml.h5'\n",
    "a = h5py.File(url,'r')\n",
    "x_train = a['x_train']\n",
    "y_train = a['Y_train']\n",
    "x_test = a['x_test']\n",
    "y_test = a['y_test']"
   ]
  },
  {
   "cell_type": "code",
   "execution_count": 0,
   "metadata": {
    "colab": {},
    "colab_type": "code",
    "id": "pANi1DkuJOTo"
   },
   "outputs": [],
   "source": [
    "import numpy as np\n",
    "x_train=np.array(x_train)\n",
    "x_test = np.array(x_test)\n",
    "y_train = np.array(y_train)\n",
    "y_test = np.array(y_test)\n",
    "x_train = x_train.reshape(-1,8,8,8,1)\n",
    "x_test = x_test.reshape(-1,8,8,8,1)\n"
   ]
  },
  {
   "cell_type": "code",
   "execution_count": 4,
   "metadata": {
    "colab": {
     "base_uri": "https://localhost:8080/",
     "height": 107
    },
    "colab_type": "code",
    "id": "dPUR2M6kJQp4",
    "outputId": "d8c2260f-7a49-4760-e455-f5ccb0f1a29c"
   },
   "outputs": [
    {
     "name": "stderr",
     "output_type": "stream",
     "text": [
      "WARNING: Logging before flag parsing goes to stderr.\n",
      "W0702 14:46:08.377827 139668423198592 deprecation.py:506] From /usr/local/lib/python3.6/dist-packages/tensorflow/python/ops/init_ops.py:1251: calling VarianceScaling.__init__ (from tensorflow.python.ops.init_ops) with dtype is deprecated and will be removed in a future version.\n",
      "Instructions for updating:\n",
      "Call initializer instance with the dtype argument instead of passing it to the constructor\n"
     ]
    }
   ],
   "source": [
    "import tensorflow as tf\n",
    "from tensorflow import keras\n",
    "\n",
    "new_model = keras.models.Sequential()\n",
    "\n",
    "new_model.add(keras.layers.Conv3D(32, (3,3,1)  , activation = 'relu' , padding = 'same' , input_shape=(8,8,8,1)))\n",
    "new_model.add(keras.layers.Conv3D(32, (3,3,1) , padding = 'same' , activation = 'relu' ))\n",
    "\n",
    "new_model.add(keras.layers.MaxPooling3D((2,2,1) , padding = 'same'))\n",
    "new_model.add(keras.layers.Conv3D(64, (3,3,1) , padding = 'same' , activation = 'relu' ))\n",
    "new_model.add(keras.layers.Conv3D(64, (3,3,1) , padding = 'same' , activation = 'relu' ))\n",
    "new_model.add(keras.layers.MaxPooling3D((2,2,1) , padding = 'same'))\n",
    "new_model.add(keras.layers.Dropout(0.25))\n",
    "new_model.add(keras.layers.Flatten())\n",
    "new_model.add(keras.layers.Dense(1200 , activation = 'relu'))\n",
    "\n",
    "new_model.add(keras.layers.Dense(600 , activation = 'relu'))\n",
    "new_model.add(keras.layers.Dropout(0.25))\n",
    "new_model.add(keras.layers.Dense(120 , activation = 'relu'))\n",
    "new_model.add(keras.layers.Dense(60 , activation = 'relu'))\n",
    "new_model.add(keras.layers.Dense(1, activation = 'linear'))\n",
    "              \n",
    "new_model.compile(optimizer = 'adam' , loss = 'mean_squared_error' , metrics = ['accuracy' ])\n"
   ]
  },
  {
   "cell_type": "code",
   "execution_count": 5,
   "metadata": {
    "colab": {
     "base_uri": "https://localhost:8080/",
     "height": 656
    },
    "colab_type": "code",
    "id": "yjwRQ3a9JspC",
    "outputId": "943f710c-0f42-4b79-8d9c-2f3aa2bcc64a"
   },
   "outputs": [
    {
     "name": "stdout",
     "output_type": "stream",
     "text": [
      "Model: \"sequential\"\n",
      "_________________________________________________________________\n",
      "Layer (type)                 Output Shape              Param #   \n",
      "=================================================================\n",
      "conv3d (Conv3D)              (None, 8, 8, 8, 32)       320       \n",
      "_________________________________________________________________\n",
      "conv3d_1 (Conv3D)            (None, 8, 8, 8, 32)       9248      \n",
      "_________________________________________________________________\n",
      "max_pooling3d (MaxPooling3D) (None, 4, 4, 8, 32)       0         \n",
      "_________________________________________________________________\n",
      "conv3d_2 (Conv3D)            (None, 4, 4, 8, 64)       18496     \n",
      "_________________________________________________________________\n",
      "conv3d_3 (Conv3D)            (None, 4, 4, 8, 64)       36928     \n",
      "_________________________________________________________________\n",
      "max_pooling3d_1 (MaxPooling3 (None, 2, 2, 8, 64)       0         \n",
      "_________________________________________________________________\n",
      "dropout (Dropout)            (None, 2, 2, 8, 64)       0         \n",
      "_________________________________________________________________\n",
      "flatten (Flatten)            (None, 2048)              0         \n",
      "_________________________________________________________________\n",
      "dense (Dense)                (None, 1200)              2458800   \n",
      "_________________________________________________________________\n",
      "dense_1 (Dense)              (None, 600)               720600    \n",
      "_________________________________________________________________\n",
      "dropout_1 (Dropout)          (None, 600)               0         \n",
      "_________________________________________________________________\n",
      "dense_2 (Dense)              (None, 120)               72120     \n",
      "_________________________________________________________________\n",
      "dense_3 (Dense)              (None, 60)                7260      \n",
      "_________________________________________________________________\n",
      "dense_4 (Dense)              (None, 1)                 61        \n",
      "=================================================================\n",
      "Total params: 3,323,833\n",
      "Trainable params: 3,323,833\n",
      "Non-trainable params: 0\n",
      "_________________________________________________________________\n"
     ]
    }
   ],
   "source": [
    "new_model.summary()"
   ]
  },
  {
   "cell_type": "code",
   "execution_count": 7,
   "metadata": {
    "colab": {
     "base_uri": "https://localhost:8080/",
     "height": 745
    },
    "colab_type": "code",
    "id": "vGMRC97lJwMq",
    "outputId": "57d7fefe-be06-45c1-cdcf-14b08e787b00"
   },
   "outputs": [
    {
     "name": "stdout",
     "output_type": "stream",
     "text": [
      "Train on 452450 samples, validate on 150817 samples\n",
      "Epoch 1/20\n",
      "452450/452450 [==============================] - 74s 163us/sample - loss: 3.9343 - acc: 0.8346 - val_loss: 0.6675 - val_acc: 0.9256\n",
      "Epoch 2/20\n",
      "452450/452450 [==============================] - 72s 160us/sample - loss: 1.0028 - acc: 0.8723 - val_loss: 0.4655 - val_acc: 0.9251\n",
      "Epoch 3/20\n",
      "452450/452450 [==============================] - 72s 160us/sample - loss: 0.6709 - acc: 0.8834 - val_loss: 0.4158 - val_acc: 0.9251\n",
      "Epoch 4/20\n",
      "452450/452450 [==============================] - 72s 159us/sample - loss: 0.5420 - acc: 0.8918 - val_loss: 0.3647 - val_acc: 0.9241\n",
      "Epoch 5/20\n",
      "452450/452450 [==============================] - 72s 160us/sample - loss: 0.4658 - acc: 0.8955 - val_loss: 0.3412 - val_acc: 0.9241\n",
      "Epoch 6/20\n",
      "452450/452450 [==============================] - 72s 159us/sample - loss: 0.4153 - acc: 0.8998 - val_loss: 0.3211 - val_acc: 0.9239\n",
      "Epoch 7/20\n",
      "452450/452450 [==============================] - 72s 159us/sample - loss: 0.3696 - acc: 0.9021 - val_loss: 0.3049 - val_acc: 0.9240\n",
      "Epoch 8/20\n",
      "452450/452450 [==============================] - 72s 159us/sample - loss: 0.3436 - acc: 0.9055 - val_loss: 0.2861 - val_acc: 0.9234\n",
      "Epoch 9/20\n",
      "452450/452450 [==============================] - 72s 159us/sample - loss: 0.3226 - acc: 0.9079 - val_loss: 0.2844 - val_acc: 0.9242\n",
      "Epoch 10/20\n",
      "452450/452450 [==============================] - 72s 159us/sample - loss: 0.3025 - acc: 0.9083 - val_loss: 0.2951 - val_acc: 0.9258\n",
      "Epoch 11/20\n",
      "452450/452450 [==============================] - 72s 159us/sample - loss: 0.2943 - acc: 0.9098 - val_loss: 0.2510 - val_acc: 0.9227\n",
      "Epoch 12/20\n",
      "452450/452450 [==============================] - 72s 159us/sample - loss: 0.2764 - acc: 0.9110 - val_loss: 0.2508 - val_acc: 0.9236\n",
      "Epoch 13/20\n",
      "452450/452450 [==============================] - 72s 159us/sample - loss: 0.2621 - acc: 0.9122 - val_loss: 0.2305 - val_acc: 0.9196\n",
      "Epoch 14/20\n",
      "452450/452450 [==============================] - 72s 159us/sample - loss: 0.2618 - acc: 0.9123 - val_loss: 0.2353 - val_acc: 0.9245\n",
      "Epoch 15/20\n",
      "452450/452450 [==============================] - 72s 159us/sample - loss: 0.2531 - acc: 0.9136 - val_loss: 0.2235 - val_acc: 0.9235\n",
      "Epoch 16/20\n",
      "452450/452450 [==============================] - 72s 160us/sample - loss: 0.2431 - acc: 0.9141 - val_loss: 0.2205 - val_acc: 0.9237\n",
      "Epoch 17/20\n",
      "452450/452450 [==============================] - 72s 159us/sample - loss: 0.2385 - acc: 0.9152 - val_loss: 0.2157 - val_acc: 0.9210\n",
      "Epoch 18/20\n",
      "452450/452450 [==============================] - 72s 159us/sample - loss: 0.2354 - acc: 0.9156 - val_loss: 0.2350 - val_acc: 0.9257\n",
      "Epoch 19/20\n",
      "452450/452450 [==============================] - 72s 159us/sample - loss: 0.2223 - acc: 0.9152 - val_loss: 0.2146 - val_acc: 0.9249\n",
      "Epoch 20/20\n",
      "452450/452450 [==============================] - 72s 160us/sample - loss: 0.2249 - acc: 0.9165 - val_loss: 0.2102 - val_acc: 0.9224\n"
     ]
    }
   ],
   "source": [
    "history = new_model.fit(x_train , y_train, epochs = 20 , batch_size = 5000, validation_split= .25)"
   ]
  },
  {
   "cell_type": "code",
   "execution_count": 8,
   "metadata": {
    "colab": {
     "base_uri": "https://localhost:8080/",
     "height": 294
    },
    "colab_type": "code",
    "id": "X_t_z0rwPPH_",
    "outputId": "5f0adc96-9928-4246-e0dd-dcf900a20966"
   },
   "outputs": [
    {
     "data": {
      "image/png": "[encoded data removed]",
      "text/plain": [
       "<Figure size 432x288 with 1 Axes>"
      ]
     },
     "metadata": {
      "tags": []
     },
     "output_type": "display_data"
    }
   ],
   "source": [
    "import matplotlib.pyplot as plt\n",
    "fig = plt.figure()\n",
    "xlabel = 'epoch'\n",
    "ylabel = 'loss'\n",
    "plt_title = 'mean_squared_error vs epoch'\n",
    "ax = fig.add_subplot(111,xlabel = xlabel , ylabel = ylabel , title = plt_title)\n",
    "ax.plot(history.history['loss'] , label ='training')\n",
    "plt.legend()\n",
    "ax.plot(history.history['val_loss'] , label = 'validation')\n",
    "plt.legend()\n",
    "plt.show()"
   ]
  },
  {
   "cell_type": "code",
   "execution_count": 9,
   "metadata": {
    "colab": {
     "base_uri": "https://localhost:8080/",
     "height": 294
    },
    "colab_type": "code",
    "id": "rlmiTp8TPPyf",
    "outputId": "f746cc60-5050-4124-8f6f-b732c88c58ca"
   },
   "outputs": [
    {
     "data": {
      "image/png": "[encoded data removed]",
      "text/plain": [
       "<Figure size 432x288 with 1 Axes>"
      ]
     },
     "metadata": {
      "tags": []
     },
     "output_type": "display_data"
    }
   ],
   "source": [
    "import matplotlib.pyplot as plt\n",
    "fig = plt.figure()\n",
    "xlabel = 'epoch'\n",
    "ylabel = 'accuracy'\n",
    "plt_title = 'accuracy vs epoch'\n",
    "ax = fig.add_subplot(111,xlabel = xlabel , ylabel = ylabel , title = plt_title)\n",
    "ax.plot(history.history['acc'] , label ='training')\n",
    "plt.legend()\n",
    "ax.plot(history.history['val_acc'] , label = 'validation')\n",
    "plt.legend()\n",
    "plt.show()"
   ]
  }
 ],
 "metadata": {
  "accelerator": "GPU",
  "colab": {
   "name": "Untitled36.ipynb",
   "provenance": [],
   "version": "0.3.2"
  },
  "kernelspec": {
   "display_name": "Python 3",
   "language": "python",
   "name": "python3"
  },
  "language_info": {
   "codemirror_mode": {
    "name": "ipython",
    "version": 3
   },
   "file_extension": ".py",
   "mimetype": "text/x-python",
   "name": "python",
   "nbconvert_exporter": "python",
   "pygments_lexer": "ipython3",
   "version": "3.7.1"
  }
 },
 "nbformat": 4,
 "nbformat_minor": 1
}
