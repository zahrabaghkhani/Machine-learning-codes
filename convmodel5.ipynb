{
  "nbformat": 4,
  "nbformat_minor": 0,
  "metadata": {
    "colab": {
      "name": "Untitled36.ipynb",
      "version": "0.3.2",
      "provenance": []
    },
    "kernelspec": {
      "name": "python3",
      "display_name": "Python 3"
    },
    "accelerator": "GPU"
  },
  "cells": [
    {
      "cell_type": "code",
      "metadata": {
        "id": "xpwe1nPAIwtt",
        "colab_type": "code",
        "colab": {
          "base_uri": "https://localhost:8080/",
          "height": 125
        },
        "outputId": "ca567065-2d86-4293-e9fe-5bb69a2652c6"
      },
      "source": [
        "from google.colab import drive\n",
        "drive.mount('/content/gdrive')"
      ],
      "execution_count": 1,
      "outputs": [
        {
          "output_type": "stream",
          "text": [
            "Go to this URL in a browser: https://accounts.google.com/o/oauth2/auth?client_id=947318989803-6bn6qk8qdgf4n4g3pfee6491hc0brc4i.apps.googleusercontent.com&redirect_uri=urn%3Aietf%3Awg%3Aoauth%3A2.0%3Aoob&scope=email%20https%3A%2F%2Fwww.googleapis.com%2Fauth%2Fdocs.test%20https%3A%2F%2Fwww.googleapis.com%2Fauth%2Fdrive%20https%3A%2F%2Fwww.googleapis.com%2Fauth%2Fdrive.photos.readonly%20https%3A%2F%2Fwww.googleapis.com%2Fauth%2Fpeopleapi.readonly&response_type=code\n",
            "\n",
            "Enter your authorization code:\n",
            "··········\n",
            "Mounted at /content/gdrive\n"
          ],
          "name": "stdout"
        }
      ]
    },
    {
      "cell_type": "code",
      "metadata": {
        "id": "z3zTsr20JLN4",
        "colab_type": "code",
        "colab": {}
      },
      "source": [
        "import h5py\n",
        "url = '/content/gdrive/My Drive/ml project/Untitled folder/dataml.h5'\n",
        "a = h5py.File(url,'r')\n",
        "x_train = a['x_train']\n",
        "y_train = a['Y_train']\n",
        "x_test = a['x_test']\n",
        "y_test = a['y_test']"
      ],
      "execution_count": 0,
      "outputs": []
    },
    {
      "cell_type": "code",
      "metadata": {
        "id": "pANi1DkuJOTo",
        "colab_type": "code",
        "colab": {}
      },
      "source": [
        "import numpy as np\n",
        "x_train=np.array(x_train)\n",
        "x_test = np.array(x_test)\n",
        "y_train = np.array(y_train)\n",
        "y_test = np.array(y_test)\n",
        "x_train = x_train.reshape(-1,8,8,8,1)\n",
        "x_test = x_test.reshape(-1,8,8,8,1)\n"
      ],
      "execution_count": 0,
      "outputs": []
    },
    {
      "cell_type": "code",
      "metadata": {
        "id": "dPUR2M6kJQp4",
        "colab_type": "code",
        "colab": {}
      },
      "source": [
        "import tensorflow as tf\n",
        "from tensorflow import keras\n",
        "\n",
        "new_model = keras.models.Sequential()\n",
        "\n",
        "new_model.add(keras.layers.Conv3D(32, (3,3,1)  , activation = 'relu' , padding = 'same' , input_shape=(8,8,8,1)))\n",
        "new_model.add(keras.layers.Conv3D(32, (3,3,1) , padding = 'same' , activation = 'relu' ))\n",
        "\n",
        "new_model.add(keras.layers.AveragePooling3D((2,2,1) , padding = 'same'))\n",
        "new_model.add(keras.layers.Conv3D(64, (3,3,1) , padding = 'same' , activation = 'relu' ))\n",
        "new_model.add(keras.layers.Conv3D(64, (3,3,1) , padding = 'same' , activation = 'relu' ))\n",
        "\n",
        "new_model.add(keras.layers.Dropout(0.25))\n",
        "new_model.add(keras.layers.Flatten())\n",
        "new_model.add(keras.layers.Dense(5000 , activation = 'relu'))\n",
        "new_model.add(keras.layers.Dense(2000 , activation = 'relu'))\n",
        "new_model.add(keras.layers.Dropout(0.25))\n",
        "new_model.add(keras.layers.Dense(600 , activation = 'relu'))\n",
        "new_model.add(keras.layers.Dropout(0.25))\n",
        "new_model.add(keras.layers.Dense(120 , activation = 'relu'))\n",
        "new_model.add(keras.layers.Dense(60 , activation = 'relu'))\n",
        "new_model.add(keras.layers.Dense(1, activation = 'linear'))\n",
        "              \n",
        "new_model.compile(optimizer = 'adam' , loss = 'mean_squared_error' , metrics = ['accuracy' ])\n"
      ],
      "execution_count": 0,
      "outputs": []
    },
    {
      "cell_type": "code",
      "metadata": {
        "id": "yjwRQ3a9JspC",
        "colab_type": "code",
        "colab": {
          "base_uri": "https://localhost:8080/",
          "height": 692
        },
        "outputId": "d6825652-5313-47d2-f13d-26e9fdabba28"
      },
      "source": [
        "new_model.summary()"
      ],
      "execution_count": 15,
      "outputs": [
        {
          "output_type": "stream",
          "text": [
            "Model: \"sequential_3\"\n",
            "_________________________________________________________________\n",
            "Layer (type)                 Output Shape              Param #   \n",
            "=================================================================\n",
            "conv3d_12 (Conv3D)           (None, 8, 8, 8, 32)       320       \n",
            "_________________________________________________________________\n",
            "conv3d_13 (Conv3D)           (None, 8, 8, 8, 32)       9248      \n",
            "_________________________________________________________________\n",
            "average_pooling3d_2 (Average (None, 4, 4, 8, 32)       0         \n",
            "_________________________________________________________________\n",
            "conv3d_14 (Conv3D)           (None, 4, 4, 8, 64)       18496     \n",
            "_________________________________________________________________\n",
            "conv3d_15 (Conv3D)           (None, 4, 4, 8, 64)       36928     \n",
            "_________________________________________________________________\n",
            "dropout_6 (Dropout)          (None, 4, 4, 8, 64)       0         \n",
            "_________________________________________________________________\n",
            "flatten_3 (Flatten)          (None, 8192)              0         \n",
            "_________________________________________________________________\n",
            "dense_15 (Dense)             (None, 5000)              40965000  \n",
            "_________________________________________________________________\n",
            "dense_16 (Dense)             (None, 2000)              10002000  \n",
            "_________________________________________________________________\n",
            "dropout_7 (Dropout)          (None, 2000)              0         \n",
            "_________________________________________________________________\n",
            "dense_17 (Dense)             (None, 600)               1200600   \n",
            "_________________________________________________________________\n",
            "dropout_8 (Dropout)          (None, 600)               0         \n",
            "_________________________________________________________________\n",
            "dense_18 (Dense)             (None, 120)               72120     \n",
            "_________________________________________________________________\n",
            "dense_19 (Dense)             (None, 60)                7260      \n",
            "_________________________________________________________________\n",
            "dense_20 (Dense)             (None, 1)                 61        \n",
            "=================================================================\n",
            "Total params: 52,312,033\n",
            "Trainable params: 52,312,033\n",
            "Non-trainable params: 0\n",
            "_________________________________________________________________\n"
          ],
          "name": "stdout"
        }
      ]
    },
    {
      "cell_type": "code",
      "metadata": {
        "id": "vGMRC97lJwMq",
        "colab_type": "code",
        "colab": {
          "base_uri": "https://localhost:8080/",
          "height": 745
        },
        "outputId": "71ebae27-a0f4-4579-88a2-03a351118575"
      },
      "source": [
        "history = new_model.fit(x_train , y_train, epochs = 20 , batch_size = 5000, validation_split= .25)"
      ],
      "execution_count": 18,
      "outputs": [
        {
          "output_type": "stream",
          "text": [
            "Train on 452450 samples, validate on 150817 samples\n",
            "Epoch 1/20\n",
            "452450/452450 [==============================] - 134s 296us/sample - loss: 0.3796 - acc: 0.9128 - val_loss: 0.2524 - val_acc: 0.9181\n",
            "Epoch 2/20\n",
            "452450/452450 [==============================] - 134s 296us/sample - loss: 0.2668 - acc: 0.9162 - val_loss: 0.2352 - val_acc: 0.9208\n",
            "Epoch 3/20\n",
            "452450/452450 [==============================] - 134s 296us/sample - loss: 0.2479 - acc: 0.9169 - val_loss: 0.2320 - val_acc: 0.9217\n",
            "Epoch 4/20\n",
            "452450/452450 [==============================] - 134s 296us/sample - loss: 0.2419 - acc: 0.9178 - val_loss: 0.2206 - val_acc: 0.9174\n",
            "Epoch 5/20\n",
            "452450/452450 [==============================] - 134s 296us/sample - loss: 0.2273 - acc: 0.9177 - val_loss: 0.2153 - val_acc: 0.9195\n",
            "Epoch 6/20\n",
            "452450/452450 [==============================] - 134s 296us/sample - loss: 0.2170 - acc: 0.9167 - val_loss: 0.2052 - val_acc: 0.9198\n",
            "Epoch 7/20\n",
            "452450/452450 [==============================] - 134s 296us/sample - loss: 0.2112 - acc: 0.9169 - val_loss: 0.2049 - val_acc: 0.9205\n",
            "Epoch 8/20\n",
            "452450/452450 [==============================] - 134s 296us/sample - loss: 0.2058 - acc: 0.9168 - val_loss: 0.2046 - val_acc: 0.9186\n",
            "Epoch 9/20\n",
            "452450/452450 [==============================] - 134s 296us/sample - loss: 0.2029 - acc: 0.9167 - val_loss: 0.1990 - val_acc: 0.9152\n",
            "Epoch 10/20\n",
            "452450/452450 [==============================] - 134s 296us/sample - loss: 0.1962 - acc: 0.9161 - val_loss: 0.1974 - val_acc: 0.9189\n",
            "Epoch 11/20\n",
            "452450/452450 [==============================] - 134s 295us/sample - loss: 0.1959 - acc: 0.9164 - val_loss: 0.1948 - val_acc: 0.9163\n",
            "Epoch 12/20\n",
            "452450/452450 [==============================] - 134s 296us/sample - loss: 0.1974 - acc: 0.9157 - val_loss: 0.1925 - val_acc: 0.9195\n",
            "Epoch 13/20\n",
            "452450/452450 [==============================] - 134s 296us/sample - loss: 0.1860 - acc: 0.9156 - val_loss: 0.1895 - val_acc: 0.9191\n",
            "Epoch 14/20\n",
            "452450/452450 [==============================] - 134s 295us/sample - loss: 0.1837 - acc: 0.9158 - val_loss: 0.1877 - val_acc: 0.9198\n",
            "Epoch 15/20\n",
            "452450/452450 [==============================] - 134s 296us/sample - loss: 0.1774 - acc: 0.9154 - val_loss: 0.1915 - val_acc: 0.9203\n",
            "Epoch 16/20\n",
            "452450/452450 [==============================] - 134s 296us/sample - loss: 0.1817 - acc: 0.9158 - val_loss: 0.1843 - val_acc: 0.9179\n",
            "Epoch 17/20\n",
            "452450/452450 [==============================] - 134s 296us/sample - loss: 0.1767 - acc: 0.9174 - val_loss: 0.1819 - val_acc: 0.9203\n",
            "Epoch 18/20\n",
            "452450/452450 [==============================] - 134s 296us/sample - loss: 0.1718 - acc: 0.9170 - val_loss: 0.1831 - val_acc: 0.9191\n",
            "Epoch 19/20\n",
            "452450/452450 [==============================] - 134s 296us/sample - loss: 0.1686 - acc: 0.9179 - val_loss: 0.1779 - val_acc: 0.9211\n",
            "Epoch 20/20\n",
            "452450/452450 [==============================] - 134s 296us/sample - loss: 0.1680 - acc: 0.9175 - val_loss: 0.1790 - val_acc: 0.9176\n"
          ],
          "name": "stdout"
        }
      ]
    },
    {
      "cell_type": "code",
      "metadata": {
        "id": "X_t_z0rwPPH_",
        "colab_type": "code",
        "colab": {
          "base_uri": "https://localhost:8080/",
          "height": 294
        },
        "outputId": "e0eb32ab-0b87-4581-df94-f94f7db8f1a9"
      },
      "source": [
        "import matplotlib.pyplot as plt\n",
        "fig = plt.figure()\n",
        "xlabel = 'epoch'\n",
        "ylabel = 'loss'\n",
        "plt_title = 'mean_squared_error vs epoch'\n",
        "ax = fig.add_subplot(111,xlabel = xlabel , ylabel = ylabel , title = plt_title)\n",
        "ax.plot(history.history['loss'] , label ='training')\n",
        "plt.legend()\n",
        "ax.plot(history.history['val_loss'] , label = 'validation')\n",
        "plt.legend()\n",
        "plt.show()"
      ],
      "execution_count": 19,
      "outputs": [
        {
          "output_type": "display_data",
          "data": {
            "image/png": "[encoded data removed]",
            "text/plain": [
              "<Figure size 432x288 with 1 Axes>"
            ]
          },
          "metadata": {
            "tags": []
          }
        }
      ]
    },
    {
      "cell_type": "code",
      "metadata": {
        "id": "rlmiTp8TPPyf",
        "colab_type": "code",
        "colab": {
          "base_uri": "https://localhost:8080/",
          "height": 294
        },
        "outputId": "d181ea15-8c95-4f1f-e6cf-6eff6dbe84ef"
      },
      "source": [
        "import matplotlib.pyplot as plt\n",
        "fig = plt.figure()\n",
        "xlabel = 'epoch'\n",
        "ylabel = 'accuracy'\n",
        "plt_title = 'accuracy vs epoch'\n",
        "ax = fig.add_subplot(111,xlabel = xlabel , ylabel = ylabel , title = plt_title)\n",
        "ax.plot(history.history['acc'] , label ='training')\n",
        "plt.legend()\n",
        "ax.plot(history.history['val_acc'] , label = 'validation')\n",
        "plt.legend()\n",
        "plt.show()"
      ],
      "execution_count": 20,
      "outputs": [
        {
          "output_type": "display_data",
          "data": {
            "image/png": "[encoded data removed]",
            "text/plain": [
              "<Figure size 432x288 with 1 Axes>"
            ]
          },
          "metadata": {
            "tags": []
          }
        }
      ]
    }
  ]
}